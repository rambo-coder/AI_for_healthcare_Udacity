{
 "cells": [
  {
   "cell_type": "markdown",
   "metadata": {},
   "source": [
    "## Part 1: Pulse Rate Algorithm\n",
    "\n",
    "### Contents\n",
    "Fill out this notebook as part of your final project submission.\n",
    "\n",
    "**You will have to complete both the Code and Project Write-up sections.**\n",
    "- The [Code](#Code) is where you will write a **pulse rate algorithm** and already includes the starter code.\n",
    "   - Imports - These are the imports needed for Part 1 of the final project. \n",
    "     - [glob](https://docs.python.org/3/library/glob.html)\n",
    "     - [numpy](https://numpy.org/)\n",
    "     - [scipy](https://www.scipy.org/)\n",
    "- The [Project Write-up](#Project-Write-up) to describe why you wrote the algorithm for the specific case.\n",
    "\n",
    "\n",
    "### Dataset\n",
    "You will be using the **Troika**[1] dataset to build your algorithm. Find the dataset under `datasets/troika/training_data`. The `README` in that folder will tell you how to interpret the data. The starter code contains a function to help load these files.\n",
    "\n",
    "1. Zhilin Zhang, Zhouyue Pi, Benyuan Liu, ‘‘TROIKA: A General Framework for Heart Rate Monitoring Using Wrist-Type Photoplethysmographic Signals During Intensive Physical Exercise,’’IEEE Trans. on Biomedical Engineering, vol. 62, no. 2, pp. 522-531, February 2015. Link\n",
    "\n",
    "-----"
   ]
  },
  {
   "cell_type": "markdown",
   "metadata": {},
   "source": [
    "### Code"
   ]
  },
  {
   "cell_type": "code",
   "execution_count": 70,
   "metadata": {},
   "outputs": [],
   "source": [
    "import glob\n",
    "\n",
    "import numpy as np\n",
    "import scipy as sp\n",
    "import scipy.io\n",
    "import scipy.signal\n",
    "import matplotlib.pyplot as plt\n",
    "\n",
    "\n",
    "def LoadTroikaDataset():\n",
    "    \"\"\"\n",
    "    Retrieve the .mat filenames for the troika dataset.\n",
    "\n",
    "    Review the README in ./datasets/troika/ to understand the organization of the .mat files.\n",
    "\n",
    "    Returns:\n",
    "        data_fls: Names of the .mat files that contain signal data\n",
    "        ref_fls: Names of the .mat files that contain reference data\n",
    "        <data_fls> and <ref_fls> are ordered correspondingly, so that ref_fls[5] is the \n",
    "            reference data for data_fls[5], etc...\n",
    "    \"\"\"\n",
    "    data_dir = \"./datasets/troika/training_data\"\n",
    "    data_fls = sorted(glob.glob(data_dir + \"/DATA_*.mat\"))\n",
    "    ref_fls = sorted(glob.glob(data_dir + \"/REF_*.mat\"))\n",
    "    return data_fls, ref_fls\n",
    "\n",
    "def LoadTroikaDataFile(data_fl):\n",
    "    \"\"\"\n",
    "    Loads and extracts signals from a troika data file.\n",
    "\n",
    "    Usage:\n",
    "        data_fls, ref_fls = LoadTroikaDataset()\n",
    "        ppg, accx, accy, accz = LoadTroikaDataFile(data_fls[0])\n",
    "\n",
    "    Args:\n",
    "        data_fl: (str) filepath to a troika .mat file.\n",
    "\n",
    "    Returns:\n",
    "        numpy arrays for ppg, accx, accy, accz signals.\n",
    "    \"\"\"\n",
    "    data = sp.io.loadmat(data_fl)['sig']\n",
    "    return data[2:]\n",
    "\n",
    "def AggregateErrorMetric(pr_errors, confidence_est):\n",
    "    \"\"\"\n",
    "    Computes an aggregate error metric based on confidence estimates.\n",
    "\n",
    "    Computes the MAE at 90% availability. \n",
    "\n",
    "    Args:\n",
    "        pr_errors: a numpy array of errors between pulse rate estimates and corresponding \n",
    "            reference heart rates.\n",
    "        confidence_est: a numpy array of confidence estimates for each pulse rate\n",
    "            error.\n",
    "\n",
    "    Returns:\n",
    "        the MAE at 90% availability\n",
    "    \"\"\"\n",
    "    # Higher confidence means a better estimate. The best 90% of the estimates\n",
    "    #    are above the 10th percentile confidence.\n",
    "    percentile90_confidence = np.percentile(confidence_est, 10)\n",
    "\n",
    "    # Find the errors of the best pulse rate estimates\n",
    "    best_estim0tes = pr_errors[confidence_est >= percentile90_confidence]\n",
    "\n",
    "    # Return the mean absolute error\n",
    "    return np.mean(np.abs(best_estimates))\n",
    "\n",
    "def Evaluate():\n",
    "    \"\"\"\n",
    "    Top-level function evaluation function.\n",
    "\n",
    "    Runs the pulse rate algorithm on the Troika dataset and returns an aggregate error metric.\n",
    "\n",
    "    Returns:\n",
    "        Pulse rate error on the Troika dataset. See AggregateErrorMetric.\n",
    "    \"\"\"\n",
    "    # Retrieve dataset files\n",
    "    data_fls, ref_fls = LoadTroikaDataset()\n",
    "    errs, confs = [], []\n",
    "    for data_fl, ref_fl in zip(data_fls, ref_fls):\n",
    "        # Run the pulse rate algorithm on each trial in the dataset\n",
    "        errors, confidence = RunPulseRateAlgorithm(data_fl, ref_fl)\n",
    "        errs.append(errors)\n",
    "        confs.append(confidence)\n",
    "        # Compute aggregate error metric\n",
    "    errs = np.hstack(errs)\n",
    "    confs = np.hstack(confs)\n",
    "    return AggregateErrorMetric(errs, confs)\n",
    "\n",
    "def features(ppg, acc, fs):\n",
    "    # Fourier Transform the ppg signal\n",
    "    ppg_freqs, ppg_fft = fourier_transform(ppg, fs)\n",
    "    \n",
    "    # Filter data\n",
    "    ppg_fft[ppg_freqs <= 70/60.0] = 0.0\n",
    "    ppg_fft[ppg_freqs >= 190/60.0] = 0.0\n",
    "    \n",
    "    # Find peaks\n",
    "    ppg_peaks = sp.signal.find_peaks(ppg_fft, height=2000)[0]\n",
    "    ppg_peaks_f = ppg_freqs[ppg_peaks]\n",
    "    \n",
    "    # Fourier Transform the acc signal\n",
    "    acc_freqs, acc_fft = fourier_transform(acc, fs)\n",
    "    \n",
    "    # Filter data\n",
    "    acc_fft[acc_freqs <= 70/60.0] = 0.0\n",
    "    acc_fft[acc_freqs >= 190/60.0] = 0.0\n",
    "    \n",
    "    # Find peaks\n",
    "    acc_peaks = sp.signal.find_peaks(acc_fft, height=None)[0]\n",
    "    acc_peaks_f = acc_freqs[acc_peaks]\n",
    "    \n",
    "    return {'ppg': (ppg_peaks, ppg_peaks_f, ppg_freqs, ppg_fft), 'acc': (acc_peaks, acc_peaks_f, acc_freqs, acc_fft)}\n",
    "\n",
    "def confidence(freqs, fft_mag, bpm_f):\n",
    "    window_f = 30/60\n",
    "    fundamental_freq_window = (freqs > bpm_f - window_f) & (freqs < bpm_f + window_f)\n",
    "    return np.sum(fft_mag[fundamental_freq_window])/ np.sum(fft_mag)\n",
    "\n",
    "def heart_rate(ppg, acc, window_length_s, window_shift_s, fs):\n",
    "    window_length = window_length_s * fs\n",
    "    window_shift = window_shift_s * fs\n",
    "    \n",
    "    est_bpm = []\n",
    "    confidence = []\n",
    "    \n",
    "    prev_est = 40/60\n",
    "    \n",
    "    for i in range(0, len(ppg) - window_length, window_shift):\n",
    "        ppg_window = ppg[i:i+window_length]\n",
    "        acc_window = acc[i:i+window_length]\n",
    "        \n",
    "        window_features = get_features(ppg_window, acc, fs)\n",
    "        ppg_peaks, ppg_peaks_f, ppg_freqs, ppg_fft = window_features['ppg']\n",
    "        acc_peaks, acc_peaks_f, acc_freqs, acc_fft = window_features['acc']\n",
    "        \n",
    "        ppg_max = ppg_freqs[np.argmax(ppg_fft)]\n",
    "        acc_max = acc_freqs[np.argmax(acc_fft)]\n",
    "        \n",
    "        k = 1\n",
    "        \n",
    "        while np.abs(acc_max-ppg_max) <= 0.2 and k <=2:\n",
    "            k+=1\n",
    "            ppg_max = ppg_freqs[np.argsort(ppg_fft, axis=0)[-k]]\n",
    "            acc_max = acc_freqs[np.argsort(acc_fft, axis=0)[-k]]\n",
    "        \n",
    "        est_bpm_f = ppg_max\n",
    "        \n",
    "        prev_est = est_bpm_f\n",
    "        est_bpm.append(est_bpm_f*60)\n",
    "        confidence.append(calculate_confidence(ppg_freqs, ppg_fft, est_bpm_f))\n",
    "\n",
    "    return est_bpm, confidence\n",
    "\n",
    "def RunPulseRateAlgorithm(data_fl, ref_fl):\n",
    "    # Load data using LoadTroikaDataFile\n",
    "    ppg, accx, accy, accz = LoadTroikaDataFile(data_fl)\n",
    "    \n",
    "    # Compute pulse rate estimates and estimation confidence.\n",
    "    fs = 125\n",
    "    \n",
    "    ppg = bandpass_filter(ppg, fs)\n",
    "    accx = bandpass_filter(accx, fs)\n",
    "    accy = bandpass_filter(accy, fs)\n",
    "    accz = bandpass_filter(accz, fs)\n",
    "    \n",
    "    acc = np.sqrt(accx**2 + accy**2 + accz**2)\n",
    "    \n",
    "    window_length_s = 8\n",
    "    window_shift_s = 2 \n",
    "    \n",
    "    est_bpm, confidence = heart_rate(ppg, acc, window_length_s, window_shift_s, fs)\n",
    "    # Return per-estimate mean absolute error and confidence as a 2-tuple of numpy arrays.\n",
    "    errors, confidence = np.abs(np.diag(np.subtract(bpm, est_bpm)))  # Dummy placeholders. Remove\n",
    "    return errors, confidence\n",
    "\n",
    "def bandpass (signal, fs):\n",
    "    pass_band=(40/60.0, 240/60.0)\n",
    "    b, a = scipy.signal.butter(3, pass_band, btype='bandpass', fs=fs)\n",
    "    return scipy.signal.filtfilt(b, a, signal)\n",
    "\n",
    "def fourier(signal, fs):\n",
    "    freqs = np.fft.rfftfreq(2*len(signal), 1/fs)\n",
    "    fft = np.abs(np.fft.rfft(signal, 2*len(signal)))\n",
    "    return freqs, fft\n",
    "\n",
    "def plot_fft(signal, freqs, fft, fs):\n",
    "    plt.subplot(2,1,1)\n",
    "    ts = np.arange(len(signal)) / fs\n",
    "    plt.plot(ts, signal)\n",
    "    plt.subplot(2,1,2)\n",
    "    plt.plot(freqs, np.abs(fft))\n",
    "    plt.title(\"freq domain\")\n",
    "    plt.xlabel(\"freq\")\n",
    "    plt.tight_layout()"
   ]
  },
  {
   "cell_type": "code",
   "execution_count": 41,
   "metadata": {},
   "outputs": [],
   "source": [
    "data_fls, ref_fls = LoadTroikaDataset()"
   ]
  },
  {
   "cell_type": "code",
   "execution_count": 42,
   "metadata": {},
   "outputs": [],
   "source": [
    "data_fl, ref_fl = data_fls[0], ref_fls[0]\n",
    "bpm = sp.io.loadmat(ref_fl)['BPM0']\n",
    "ppg, accx, accy, accz = LoadTroikaDataFile(data_fl)\n",
    "fs = 125\n",
    "ppg = bandpass(ppg, fs)\n",
    "accx = bandpass(accx, fs)\n",
    "accy = bandpass(accy, fs)\n",
    "accz = bandpass(accz, fs)"
   ]
  },
  {
   "cell_type": "code",
   "execution_count": 43,
   "metadata": {},
   "outputs": [],
   "source": [
    "acc = np.sqrt(accx**2 + accy**2 + accz**2)"
   ]
  },
  {
   "cell_type": "code",
   "execution_count": 44,
   "metadata": {},
   "outputs": [],
   "source": [
    "ppg_window = ppg[0:8*fs]\n",
    "acc_window = acc[0:8*fs]\n",
    "\n",
    "ppg_freqs, ppg_fft = fourier(ppg_window, fs)"
   ]
  },
  {
   "cell_type": "code",
   "execution_count": 49,
   "metadata": {},
   "outputs": [
    {
     "data": {
      "image/png": "[encoded data removed]",
      "text/plain": [
       "<matplotlib.figure.Figure at 0x7f8c884b4748>"
      ]
     },
     "metadata": {
      "needs_background": "light"
     },
     "output_type": "display_data"
    }
   ],
   "source": [
    "plot_fft(ppg_window, ppg_freqs, ppg_fft, fs)"
   ]
  },
  {
   "cell_type": "code",
   "execution_count": 51,
   "metadata": {},
   "outputs": [
    {
     "data": {
      "image/png": "[encoded data removed]",
      "text/plain": [
       "<matplotlib.figure.Figure at 0x7f8c883b84a8>"
      ]
     },
     "metadata": {
      "needs_background": "light"
     },
     "output_type": "display_data"
    }
   ],
   "source": [
    "acc_freqs, acc_fft = fourier(acc_window, fs)\n",
    "plot_fft(acc_window, acc_freqs, acc_fft, fs)"
   ]
  },
  {
   "cell_type": "code",
   "execution_count": 55,
   "metadata": {},
   "outputs": [
    {
     "data": {
      "text/plain": [
       "[<matplotlib.lines.Line2D at 0x7f8c88311550>]"
      ]
     },
     "execution_count": 55,
     "metadata": {},
     "output_type": "execute_result"
    },
    {
     "data": {
      "image/png": "[encoded data removed]",
      "text/plain": [
       "<matplotlib.figure.Figure at 0x7f8c881eb5f8>"
      ]
     },
     "metadata": {
      "needs_background": "light"
     },
     "output_type": "display_data"
    }
   ],
   "source": [
    "peaks_ppg = sp.signal.find_peaks(ppg_fft, height=2000, distance=10)[0]\n",
    "plt.plot(ppg_fft)\n",
    "plt.plot(peaks_ppg, ppg_fft[peaks_ppg], 'g.')"
   ]
  },
  {
   "cell_type": "code",
   "execution_count": 57,
   "metadata": {},
   "outputs": [
    {
     "data": {
      "text/plain": [
       "[<matplotlib.lines.Line2D at 0x7f8c881f3c88>]"
      ]
     },
     "execution_count": 57,
     "metadata": {},
     "output_type": "execute_result"
    },
    {
     "data": {
      "image/png": "[encoded data removed]",
      "text/plain": [
       "<matplotlib.figure.Figure at 0x7f8c881f36d8>"
      ]
     },
     "metadata": {
      "needs_background": "light"
     },
     "output_type": "display_data"
    }
   ],
   "source": [
    "peaks_acc = sp.signal.find_peaks(acc_fft, height=10)[0]\n",
    "plt.plot(acc_fft)\n",
    "plt.plot(peaks_acc, acc_fft[peaks_acc], 'r.')"
   ]
  },
  {
   "cell_type": "code",
   "execution_count": 58,
   "metadata": {},
   "outputs": [
    {
     "data": {
      "text/plain": [
       "array([ 2,  5,  7, 11, 13])"
      ]
     },
     "execution_count": 58,
     "metadata": {},
     "output_type": "execute_result"
    }
   ],
   "source": [
    "peaks_acc"
   ]
  },
  {
   "cell_type": "code",
   "execution_count": 59,
   "metadata": {},
   "outputs": [
    {
     "data": {
      "text/plain": [
       "array([20, 39])"
      ]
     },
     "execution_count": 59,
     "metadata": {},
     "output_type": "execute_result"
    }
   ],
   "source": [
    "peaks_ppg"
   ]
  },
  {
   "cell_type": "code",
   "execution_count": 60,
   "metadata": {},
   "outputs": [],
   "source": [
    "accx_window = accx[0:8*fs]\n",
    "accy_window = accy[0:8*fs]\n",
    "accz_window = accz[0:8*fs]"
   ]
  },
  {
   "cell_type": "code",
   "execution_count": 61,
   "metadata": {},
   "outputs": [],
   "source": [
    "accx_freqs, accx_fft = fourier(accx_window, fs)\n",
    "accy_freqs, accy_fft = fourier(accy_window, fs)\n",
    "accz_freqs, accz_fft = fourier(accz_window, fs)"
   ]
  },
  {
   "cell_type": "code",
   "execution_count": 65,
   "metadata": {},
   "outputs": [
    {
     "name": "stdout",
     "output_type": "stream",
     "text": [
      "[ 0.6875  0.8125  1.      1.125 ]\n",
      "[ 1.9375]\n",
      "[ 0.6875  0.8125  1.      1.25    1.375   1.5625  1.6875  1.8125  2.375\n",
      "  2.5     2.625   2.75  ]\n"
     ]
    },
    {
     "data": {
      "image/png": "[encoded data removed]",
      "text/plain": [
       "<matplotlib.figure.Figure at 0x7f8c882c7e80>"
      ]
     },
     "metadata": {
      "needs_background": "light"
     },
     "output_type": "display_data"
    }
   ],
   "source": [
    "peaks_accx = sp.signal.find_peaks(accx_fft, height=10)[0]\n",
    "plt.plot(accx_fft)\n",
    "plt.plot(peaks_accx, accx_fft[peaks_accx], 'r.')\n",
    "print(accx_freqs[peaks_accx])\n",
    "\n",
    "peaks_accy = sp.signal.find_peaks(accy_fft, height=10)[0]\n",
    "plt.plot(accy_fft)\n",
    "plt.plot(peaks_accy, accy_fft[peaks_accy], 'r.')\n",
    "print(accy_freqs[peaks_accy])\n",
    "\n",
    "peaks_accz = sp.signal.find_peaks(accz_fft, height=10)[0]\n",
    "plt.plot(accz_fft)\n",
    "plt.plot(peaks_accz, accz_fft[peaks_accz], 'r.')\n",
    "print(accz_freqs[peaks_accz])"
   ]
  },
  {
   "cell_type": "code",
   "execution_count": 66,
   "metadata": {},
   "outputs": [
    {
     "name": "stdout",
     "output_type": "stream",
     "text": [
      "[ 1.9375]\n"
     ]
    },
    {
     "data": {
      "image/png": "[encoded data removed]",
      "text/plain": [
       "<matplotlib.figure.Figure at 0x7f8c8831edd8>"
      ]
     },
     "metadata": {
      "needs_background": "light"
     },
     "output_type": "display_data"
    }
   ],
   "source": [
    "peaks_accy = sp.signal.find_peaks(accy_fft, height=10)[0]\n",
    "plt.plot(accy_fft)\n",
    "plt.plot(peaks_accy, accy_fft[peaks_accy], 'r.')\n",
    "print(accy_freqs[peaks_accy])"
   ]
  },
  {
   "cell_type": "code",
   "execution_count": 67,
   "metadata": {},
   "outputs": [
    {
     "name": "stdout",
     "output_type": "stream",
     "text": [
      "[ 0.6875  0.8125  1.      1.25    1.375   1.5625  1.6875  1.8125  2.375\n",
      "  2.5     2.625   2.75  ]\n"
     ]
    },
    {
     "data": {
      "image/png": "[encoded data removed]",
      "text/plain": [
       "<matplotlib.figure.Figure at 0x7f8c880c9eb8>"
      ]
     },
     "metadata": {
      "needs_background": "light"
     },
     "output_type": "display_data"
    }
   ],
   "source": [
    "peaks_accz = sp.signal.find_peaks(accz_fft, height=10)[0]\n",
    "plt.plot(accz_fft)\n",
    "plt.plot(peaks_accz, accz_fft[peaks_accz], 'r.')\n",
    "print(accz_freqs[peaks_accz])"
   ]
  },
  {
   "cell_type": "code",
   "execution_count": null,
   "metadata": {},
   "outputs": [],
   "source": []
  },
  {
   "cell_type": "code",
   "execution_count": null,
   "metadata": {},
   "outputs": [],
   "source": []
  },
  {
   "cell_type": "code",
   "execution_count": null,
   "metadata": {},
   "outputs": [],
   "source": []
  },
  {
   "cell_type": "code",
   "execution_count": null,
   "metadata": {},
   "outputs": [],
   "source": []
  },
  {
   "cell_type": "code",
   "execution_count": null,
   "metadata": {},
   "outputs": [],
   "source": []
  },
  {
   "cell_type": "code",
   "execution_count": null,
   "metadata": {},
   "outputs": [],
   "source": []
  },
  {
   "cell_type": "markdown",
   "metadata": {},
   "source": [
    "-----\n",
    "### Project Write-up\n",
    "\n",
    "Answer the following prompts to demonstrate understanding of the algorithm you wrote for this specific context.\n",
    "\n",
    "> - **Code Description** - Include details so someone unfamiliar with your project will know how to run your code and use your algorithm. \n",
    "> - **Data Description** - Describe the dataset that was used to train and test the algorithm. Include its short-comings and what data would be required to build a more complete dataset.\n",
    "> - **Algorithhm Description** will include the following:\n",
    ">   - how the algorithm works\n",
    ">   - the specific aspects of the physiology that it takes advantage of\n",
    ">   - a describtion of the algorithm outputs\n",
    ">   - caveats on algorithm outputs \n",
    ">   - common failure modes\n",
    "> - **Algorithm Performance** - Detail how performance was computed (eg. using cross-validation or train-test split) and what metrics were optimized for. Include error metrics that would be relevant to users of your algorithm. Caveat your performance numbers by acknowledging how generalizable they may or may not be on different datasets.\n",
    "\n",
    "**Code description**\n",
    "The Evaluate() function will run the code and will load the TROIKA data, estimate the heart rate and then give a confidence interval for each given heart rates. \n",
    "\n",
    "**Data description**\n",
    "The data is made of PPG signal and the accelerometer data in 3 directions.\n",
    "ECG is the ground truth\n",
    "We just information about the age of the patients in the dataset (18-25 yo).\n",
    "\n",
    "**Algorithm description**\n",
    "The data first go through a bandpass filter to resize the data into the window (40-240 beats/min)\n",
    "Then, the acelerometer data are aggregated in the 3 directions to get a aggregated magnitude\n",
    "The signal is divided by 8s windows seprarated by 2 seconds\n",
    "The heart rate is estimated \n",
    "The movement pulse from the heart beat is filtered out using the accelerometer. \n",
    "\n",
    "**Algorithm performance**\n",
    "The Mean Abs Value was used \n",
    "The estimated heart rate is compared to the gorund truth (ECG)"
   ]
  },
  {
   "cell_type": "markdown",
   "metadata": {},
   "source": [
    "-----\n",
    "### Next Steps\n",
    "You will now go to **Test Your Algorithm** to apply a unit test to confirm that your algorithm met the success criteria. "
   ]
  }
 ],
 "metadata": {
  "kernelspec": {
   "display_name": "Python 3",
   "language": "python",
   "name": "python3"
  },
  "language_info": {
   "codemirror_mode": {
    "name": "ipython",
    "version": 3
   },
   "file_extension": ".py",
   "mimetype": "text/x-python",
   "name": "python",
   "nbconvert_exporter": "python",
   "pygments_lexer": "ipython3",
   "version": "3.6.3"
  }
 },
 "nbformat": 4,
 "nbformat_minor": 4
}
